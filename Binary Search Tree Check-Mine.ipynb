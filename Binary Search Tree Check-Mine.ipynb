{
 "cells": [
  {
   "cell_type": "code",
   "execution_count": null,
   "metadata": {},
   "outputs": [],
   "source": [
    "class TreeNode:\n",
    "    \n",
    "    def __init__(self, k):\n",
    "        \n",
    "        self.key = k\n",
    "        \n",
    "        #self.value = val\n",
    "        \n",
    "        self.leftchild = None\n",
    "        \n",
    "        self.rightchild = None\n",
    "        \n",
    "def isBST(tree, minvalue = None, maxvalue = None):\n",
    "    \n",
    "    if tree == None:\n",
    "        \n",
    "        return True\n",
    "    \n",
    "    elif minvalue != None and tree and tree.key < minvalue:     #要有and tree => 因為最底層的None (leaf nodes的children)不能.key\n",
    "            \n",
    "        return False\n",
    "        \n",
    "    elif maxvalue != None and tree and tree.key > maxvalue:\n",
    "            \n",
    "        return False\n",
    "        \n",
    "    elif tree:\n",
    "            \n",
    "        return isBST(tree.leftchild, minvalue, tree.key) and isBST(tree.rightchild, tree.key, maxvalue)\n",
    "\n",
    "           \n",
    "        \n",
    "root = TreeNode(3)\n",
    "root.rightchild = TreeNode(6)\n",
    "root.leftchild = TreeNode(2)\n",
    "root.rightchild.leftchild = TreeNode(5)\n",
    "root.rightchild.rightchild = TreeNode(7)\n",
    "root.rightchild.rightchild.rightchild = TreeNode(8)\n",
    "\n",
    "#root.rightchild.rightchild.leftchild = TreeNode(1)\n",
    "\n",
    "print (isBST(root))"
   ]
  }
 ],
 "metadata": {
  "kernelspec": {
   "display_name": "Python 3",
   "language": "python",
   "name": "python3"
  },
  "language_info": {
   "codemirror_mode": {
    "name": "ipython",
    "version": 3
   },
   "file_extension": ".py",
   "mimetype": "text/x-python",
   "name": "python",
   "nbconvert_exporter": "python",
   "pygments_lexer": "ipython3",
   "version": "3.7.3"
  }
 },
 "nbformat": 4,
 "nbformat_minor": 2
}
